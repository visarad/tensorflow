{
  "nbformat": 4,
  "nbformat_minor": 0,
  "metadata": {
    "colab": {
      "name": "cnn.ipynb",
      "provenance": [],
      "authorship_tag": "ABX9TyPIxy8pK93CAZA6luPldfiU",
      "include_colab_link": true
    },
    "kernelspec": {
      "name": "python3",
      "display_name": "Python 3"
    },
    "language_info": {
      "name": "python"
    }
  },
  "cells": [
    {
      "cell_type": "markdown",
      "metadata": {
        "id": "view-in-github",
        "colab_type": "text"
      },
      "source": [
        "<a href=\"https://colab.research.google.com/github/visarad/tensorflow/blob/master/cnn.ipynb\" target=\"_parent\"><img src=\"https://colab.research.google.com/assets/colab-badge.svg\" alt=\"Open In Colab\"/></a>"
      ]
    },
    {
      "cell_type": "code",
      "execution_count": 1,
      "metadata": {
        "id": "cfqBWbgGbwm5"
      },
      "outputs": [],
      "source": [
        "from tensorflow.keras.models import Sequential"
      ]
    },
    {
      "cell_type": "code",
      "source": [
        "from tensorflow.keras.layers import Conv2D, MaxPooling2D, Flatten, Dense, Conv1D, MaxPooling1D"
      ],
      "metadata": {
        "id": "M7ejJiUlb925"
      },
      "execution_count": 19,
      "outputs": []
    },
    {
      "cell_type": "code",
      "source": [
        "cnn1 = Sequential([\n",
        "                  Conv2D(filters=16, kernel_size=(3,3),strides=(1,1),\n",
        "                         padding='valid',kernel_initializer='glorot_uniform',\n",
        "                         bias_initializer='zeros',activation='relu',input_shape=(32,32,3)),\n",
        "                  MaxPooling2D((3,3)),    #pooling window size something like strides and it down samples \n",
        "                  Flatten(),\n",
        "                  Dense(64,activation='relu'),\n",
        "                  Dense(10,activation='softmax')\n",
        "])"
      ],
      "metadata": {
        "id": "-3Ee34dfcONA"
      },
      "execution_count": 21,
      "outputs": []
    },
    {
      "cell_type": "code",
      "source": [
        "cnn1.compile()"
      ],
      "metadata": {
        "id": "0dT0PQUAdk3v"
      },
      "execution_count": 22,
      "outputs": []
    },
    {
      "cell_type": "code",
      "source": [
        "cnn1.summary()"
      ],
      "metadata": {
        "colab": {
          "base_uri": "https://localhost:8080/"
        },
        "id": "uWnf8Vhtdnpa",
        "outputId": "ec383d15-53f9-415f-d137-10e93dd0f23d"
      },
      "execution_count": 23,
      "outputs": [
        {
          "output_type": "stream",
          "name": "stdout",
          "text": [
            "Model: \"sequential_8\"\n",
            "_________________________________________________________________\n",
            " Layer (type)                Output Shape              Param #   \n",
            "=================================================================\n",
            " conv2d_7 (Conv2D)           (None, 30, 30, 16)        448       \n",
            "                                                                 \n",
            " max_pooling2d_7 (MaxPooling  (None, 10, 10, 16)       0         \n",
            " 2D)                                                             \n",
            "                                                                 \n",
            " flatten_8 (Flatten)         (None, 1600)              0         \n",
            "                                                                 \n",
            " dense_15 (Dense)            (None, 64)                102464    \n",
            "                                                                 \n",
            " dense_16 (Dense)            (None, 10)                650       \n",
            "                                                                 \n",
            "=================================================================\n",
            "Total params: 103,562\n",
            "Trainable params: 103,562\n",
            "Non-trainable params: 0\n",
            "_________________________________________________________________\n"
          ]
        }
      ]
    },
    {
      "cell_type": "code",
      "source": [
        "cnn = Sequential([\n",
        "                  Conv2D(filters=16, kernel_size=(3,3),strides=(1,1),\n",
        "                         padding='valid',kernel_initializer='glorot_uniform',\n",
        "                         bias_initializer='zeros',activation='relu',data_format='channels_first',input_shape=(3,32,32)),\n",
        "                  MaxPooling2D((3,3),data_format='channels_first'),    #pooling window size something like strides and it down samples \n",
        "                  Flatten(),\n",
        "                  Dense(64,activation='relu'),\n",
        "                  Dense(10,activation='softmax')\n",
        "])\n",
        "cnn.compile()\n",
        "#cnn.summary()"
      ],
      "metadata": {
        "colab": {
          "base_uri": "https://localhost:8080/"
        },
        "id": "c-HqE3p_dsPn",
        "outputId": "795e6161-b7b4-4e09-a8a6-8d03187920cf"
      },
      "execution_count": 18,
      "outputs": [
        {
          "output_type": "stream",
          "name": "stdout",
          "text": [
            "Model: \"sequential_6\"\n",
            "_________________________________________________________________\n",
            " Layer (type)                Output Shape              Param #   \n",
            "=================================================================\n",
            " conv2d_6 (Conv2D)           (None, 16, 30, 30)        448       \n",
            "                                                                 \n",
            " max_pooling2d_6 (MaxPooling  (None, 16, 10, 10)       0         \n",
            " 2D)                                                             \n",
            "                                                                 \n",
            " flatten_6 (Flatten)         (None, 1600)              0         \n",
            "                                                                 \n",
            " dense_12 (Dense)            (None, 64)                102464    \n",
            "                                                                 \n",
            " dense_13 (Dense)            (None, 10)                650       \n",
            "                                                                 \n",
            "=================================================================\n",
            "Total params: 103,562\n",
            "Trainable params: 103,562\n",
            "Non-trainable params: 0\n",
            "_________________________________________________________________\n"
          ]
        }
      ]
    },
    {
      "cell_type": "code",
      "source": [
        "# Model with weights and bias initialised 1D conv and 1D maxpooling\n",
        "cnn = Sequential([\n",
        "    Conv1D(filters=16, kernel_size=3, input_shape=(128, 64), kernel_initializer='random_uniform', bias_initializer=\"zeros\", activation='relu'),\n",
        "    MaxPooling1D(pool_size=4),\n",
        "    Flatten(),\n",
        "    Dense(64, kernel_initializer='he_uniform', bias_initializer='ones', activation='relu'),\n",
        "])"
      ],
      "metadata": {
        "colab": {
          "base_uri": "https://localhost:8080/"
        },
        "id": "RseW3BrohZ7w",
        "outputId": "84769dcc-09ea-4120-dd8d-75a6460d59cb"
      },
      "execution_count": 20,
      "outputs": [
        {
          "output_type": "stream",
          "name": "stdout",
          "text": [
            "Model: \"sequential_7\"\n",
            "_________________________________________________________________\n",
            " Layer (type)                Output Shape              Param #   \n",
            "=================================================================\n",
            " conv1d (Conv1D)             (None, 126, 16)           3088      \n",
            "                                                                 \n",
            " max_pooling1d (MaxPooling1D  (None, 31, 16)           0         \n",
            " )                                                               \n",
            "                                                                 \n",
            " flatten_7 (Flatten)         (None, 496)               0         \n",
            "                                                                 \n",
            " dense_14 (Dense)            (None, 64)                31808     \n",
            "                                                                 \n",
            "=================================================================\n",
            "Total params: 34,896\n",
            "Trainable params: 34,896\n",
            "Non-trainable params: 0\n",
            "_________________________________________________________________\n"
          ]
        }
      ]
    },
    {
      "cell_type": "code",
      "source": [
        ""
      ],
      "metadata": {
        "id": "wlbjTqObjTSx"
      },
      "execution_count": null,
      "outputs": []
    }
  ]
}